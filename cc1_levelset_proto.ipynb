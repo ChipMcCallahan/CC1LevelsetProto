{
  "nbformat": 4,
  "nbformat_minor": 0,
  "metadata": {
    "colab": {
      "name": "[github] cc1_levelset_proto.ipynb",
      "provenance": [],
      "authorship_tag": "ABX9TyPTJrJRqQygGAj9uvtZ+y7m",
      "include_colab_link": true
    },
    "kernelspec": {
      "name": "python3",
      "display_name": "Python 3"
    },
    "language_info": {
      "name": "python"
    }
  },
  "cells": [
    {
      "cell_type": "markdown",
      "metadata": {
        "id": "view-in-github",
        "colab_type": "text"
      },
      "source": [
        "<a href=\"https://colab.research.google.com/github/ChipMcCallahan/CC1LevelsetProto/blob/main/cc1_levelset_proto.ipynb\" target=\"_parent\"><img src=\"https://colab.research.google.com/assets/colab-badge.svg\" alt=\"Open In Colab\"/></a>"
      ]
    },
    {
      "cell_type": "markdown",
      "metadata": {
        "id": "ScwkKZ1SJGoD"
      },
      "source": [
        ""
      ]
    },
    {
      "cell_type": "code",
      "metadata": {
        "colab": {
          "base_uri": "https://localhost:8080/"
        },
        "id": "evL3lEdhr_D0",
        "outputId": "a2a1c862-5f6b-4b45-d14b-fce8daba2354"
      },
      "source": [
        "# import CCUtils from GitHub\n",
        "!pip install git+https://github.com/ChipMcCallahan/CC1LevelsetProto.git"
      ],
      "execution_count": null,
      "outputs": [
        {
          "output_type": "stream",
          "text": [
            "Collecting git+https://github.com/ChipMcCallahan/CC1LevelsetProto.git\n",
            "  Cloning https://github.com/ChipMcCallahan/CC1LevelsetProto.git to /tmp/pip-req-build-8k2n4wh4\n",
            "  Running command git clone -q https://github.com/ChipMcCallahan/CC1LevelsetProto.git /tmp/pip-req-build-8k2n4wh4\n",
            "Building wheels for collected packages: cc1-levelset-proto\n",
            "  Building wheel for cc1-levelset-proto (setup.py) ... \u001b[?25l\u001b[?25hdone\n",
            "  Created wheel for cc1-levelset-proto: filename=cc1_levelset_proto-0.1-py3-none-any.whl size=19179 sha256=0fc5e94be81d07c8d64dc4dc200e439c653f80daadf0e2e4539c97802a8d22c1\n",
            "  Stored in directory: /tmp/pip-ephem-wheel-cache-at8gcws2/wheels/6a/e3/08/a6eb8f0335ed7fe4945b1b4f4b841768e987cf53df94d90aaf\n",
            "Successfully built cc1-levelset-proto\n",
            "Installing collected packages: cc1-levelset-proto\n",
            "Successfully installed cc1-levelset-proto-0.1\n"
          ],
          "name": "stdout"
        }
      ]
    },
    {
      "cell_type": "code",
      "metadata": {
        "id": "Zc0lcqz7whfc",
        "colab": {
          "base_uri": "https://localhost:8080/"
        },
        "outputId": "30072ecc-2cd1-43f7-d7d0-14a195469943"
      },
      "source": [
        "from cc1_levelset_proto.cc1_levelset_pb2 import Levelset, CC1TileCode\n",
        "\n",
        "levelset = Levelset()\n",
        "levelset.name = \"Demo\"\n",
        "level = levelset.levels.add()\n",
        "level.title = \"Demo Level\"\n",
        "level.author = \"Chip McCallahan\"\n",
        "level.time = 100\n",
        "level.chips = 200\n",
        "level.password = \"AAAA\"\n",
        "level.hint = \"This is a hint.\"\n",
        "level.clone_controls[33] = 45\n",
        "level.trap_controls[13] = 37\n",
        "level.movement.append(14 * 32 + 28)\n",
        "x, y = 16, 16\n",
        "tilespec = level.map.tiles[y * 32 + x]\n",
        "tilespec.top = CC1TileCode.PLAYER_S\n",
        "tilespec.bottom = CC1TileCode.GRAVEL\n",
        "\n",
        "print(levelset)"
      ],
      "execution_count": null,
      "outputs": [
        {
          "output_type": "stream",
          "text": [
            "name: \"Demo\"\n",
            "levels {\n",
            "  title: \"Demo Level\"\n",
            "  author: \"Chip McCallahan\"\n",
            "  time: 100\n",
            "  chips: 200\n",
            "  hint: \"This is a hint.\"\n",
            "  password: \"AAAA\"\n",
            "  map {\n",
            "    tiles {\n",
            "      key: 528\n",
            "      value {\n",
            "        top: PLAYER_S\n",
            "        bottom: GRAVEL\n",
            "      }\n",
            "    }\n",
            "  }\n",
            "  trap_controls {\n",
            "    key: 13\n",
            "    value: 37\n",
            "  }\n",
            "  clone_controls {\n",
            "    key: 33\n",
            "    value: 45\n",
            "  }\n",
            "  movement: 476\n",
            "}\n",
            "\n"
          ],
          "name": "stdout"
        }
      ]
    },
    {
      "cell_type": "code",
      "metadata": {
        "id": "2Fi9Y1-pZ70b"
      },
      "source": [
        ""
      ],
      "execution_count": null,
      "outputs": []
    }
  ]
}